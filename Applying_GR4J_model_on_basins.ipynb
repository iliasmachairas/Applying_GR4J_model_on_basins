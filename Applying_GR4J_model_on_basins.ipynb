{
 "cells": [
  {
   "cell_type": "code",
   "execution_count": 1,
   "id": "f3db79d1",
   "metadata": {},
   "outputs": [],
   "source": [
    "import pandas as pd\n",
    "import numpy as np\n",
    "import matplotlib.pyplot as plt"
   ]
  },
  {
   "cell_type": "markdown",
   "id": "8f9b3ec6",
   "metadata": {},
   "source": [
    "## GR4J - General info"
   ]
  },
  {
   "cell_type": "markdown",
   "id": "316a2636",
   "metadata": {},
   "source": [
    "The GR4J (Edijatno et al. 1999) is a four-parameter daily lumped conceptual rainfall-runoff model, which is proven to be quite effective. Potential evapotranspiration (PET) and rainfall are the major inputs to this model. The GR4J model has four parameters to optimise during calibration:\n",
    "\n",
    "- X1: the production store maximal capacity (mm),\n",
    "- X2: the catchment water exchange coefficient (mm/day),\n",
    "- X3: the one-day maximal capacity of the routing reservoir (mm),\n",
    "- X4: the HU1 unit hydrograph time base (days).\n",
    "\n",
    "The attached schematic summarizes the main processes, and variables used on this model (Source: https://webgr.inrae.fr/en/models/daily-hydrological-model-gr4j/)"
   ]
  },
  {
   "cell_type": "markdown",
   "id": "ed202dd4",
   "metadata": {},
   "source": [
    "<img src=\"Images/GR4J_schematic.PNG\">\n"
   ]
  },
  {
   "cell_type": "markdown",
   "id": "e626e62e",
   "metadata": {},
   "source": [
    "## Checking Input"
   ]
  },
  {
   "cell_type": "code",
   "execution_count": 6,
   "id": "52e179d7",
   "metadata": {},
   "outputs": [],
   "source": [
    "# Add a picture from QGIS with the basin "
   ]
  },
  {
   "cell_type": "code",
   "execution_count": null,
   "id": "221f3512",
   "metadata": {},
   "outputs": [],
   "source": []
  },
  {
   "cell_type": "code",
   "execution_count": null,
   "id": "1cf74ef6",
   "metadata": {},
   "outputs": [],
   "source": []
  },
  {
   "cell_type": "markdown",
   "id": "f9e7de5e",
   "metadata": {},
   "source": [
    "## Applying the model"
   ]
  },
  {
   "cell_type": "code",
   "execution_count": null,
   "id": "7b442730",
   "metadata": {},
   "outputs": [],
   "source": []
  },
  {
   "cell_type": "markdown",
   "id": "fbd0fcaa",
   "metadata": {},
   "source": [
    "## References"
   ]
  },
  {
   "cell_type": "markdown",
   "id": "a3187f9e",
   "metadata": {},
   "source": [
    "- Edijatno M C, DeOliveira Nascimento N, Yang X, Makhlouf Z and Michel C 1999 GR3J: A daily watershed model with three free parameters; Hydrol. Sci. J. 44 263–277."
   ]
  }
 ],
 "metadata": {
  "kernelspec": {
   "display_name": "Python 3 (ipykernel)",
   "language": "python",
   "name": "python3"
  },
  "language_info": {
   "codemirror_mode": {
    "name": "ipython",
    "version": 3
   },
   "file_extension": ".py",
   "mimetype": "text/x-python",
   "name": "python",
   "nbconvert_exporter": "python",
   "pygments_lexer": "ipython3",
   "version": "3.8.10"
  }
 },
 "nbformat": 4,
 "nbformat_minor": 5
}
